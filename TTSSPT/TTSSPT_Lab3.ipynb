{
  "nbformat": 4,
  "nbformat_minor": 0,
  "metadata": {
    "colab": {
      "provenance": [],
      "authorship_tag": "ABX9TyPJ8YMXB0nK+YPax44ppU5n",
      "include_colab_link": true
    },
    "kernelspec": {
      "name": "python3",
      "display_name": "Python 3"
    },
    "language_info": {
      "name": "python"
    }
  },
  "cells": [
    {
      "cell_type": "markdown",
      "metadata": {
        "id": "view-in-github",
        "colab_type": "text"
      },
      "source": [
        "<a href=\"https://colab.research.google.com/github/kimbaorrr/colab_exercises/blob/main/TTSSPT/TTSSPT_Lab3.ipynb\" target=\"_parent\"><img src=\"https://colab.research.google.com/assets/colab-badge.svg\" alt=\"Open In Colab\"/></a>"
      ]
    },
    {
      "cell_type": "code",
      "execution_count": null,
      "metadata": {
        "id": "XLM0nwK0tNY3",
        "colab": {
          "base_uri": "https://localhost:8080/"
        },
        "outputId": "7cb40724-5737-49ed-de07-a79116854bd5"
      },
      "outputs": [
        {
          "output_type": "stream",
          "name": "stdout",
          "text": [
            "Number: 7\n",
            "Result: 49\n",
            "Number: 11\n",
            "Result: 14641\n",
            "Result is 0\n"
          ]
        }
      ],
      "source": [
        "import multiprocessing\n",
        "\n",
        "def calc_power(base, power):\n",
        "  print(f'Number: {base}')\n",
        "  result = base ** power\n",
        "  print(f'Result: {result}')\n",
        "\n",
        "if __name__ == '__main__':\n",
        "  result = 0\n",
        "  p1 = multiprocessing.Process(target=calc_power, args=(7, 2))\n",
        "  p2 = multiprocessing.Process(target=calc_power, args=(11, 4))\n",
        "\n",
        "  p1.start()\n",
        "  p2.start()\n",
        "\n",
        "  p1.join()\n",
        "  p2.join()\n",
        "\n",
        "\n",
        "  print('Result is', result)\n"
      ]
    },
    {
      "cell_type": "code",
      "source": [
        "def print_cube(num):\n",
        "  print(f'Giá trị lập phương: {num * num * num}')\n",
        "\n",
        "def print_square(num):\n",
        "  print(f'Diện tích hình vuông: {num * num}')\n",
        "\n",
        "if __name__ == '__main__':\n",
        "  # Khởi tạo 2 Process\n",
        "  p1 = multiprocessing.Process(target=print_square, args=(10,)) # args: số chiều ứng với lượng tham số đầu vào\n",
        "  p2 = multiprocessing.Process(target=print_cube, args=(10,))\n",
        "  # Bắt đầu các Processs\n",
        "  p1.start()\n",
        "  p2.start()\n",
        "  # Chờ đến khi Process hoàn thành\n",
        "  p1.join()\n",
        "  p2.join()\n",
        "  print('Done !')"
      ],
      "metadata": {
        "colab": {
          "base_uri": "https://localhost:8080/"
        },
        "id": "kll0tOg8v3AY",
        "outputId": "9492445c-3c91-4004-fd3d-1ebb819ce688"
      },
      "execution_count": null,
      "outputs": [
        {
          "output_type": "stream",
          "name": "stdout",
          "text": [
            "Diện tích hình vuông: 100\n",
            "Giá trị lập phương: 1000\n",
            "Done !\n"
          ]
        }
      ]
    },
    {
      "cell_type": "code",
      "source": [
        "import os\n",
        "\n",
        "def worker1():\n",
        "  print(f'ID process 1: {os.getpid()}')\n",
        "\n",
        "def worker2():\n",
        "  print(f'ID process 2: {os.getpid()}')\n",
        "\n",
        "if __name__ == '__main__':\n",
        "  print(f'ID của chương trình chính: {os.getpid()}')\n",
        "  p1 = multiprocessing.Process(target=worker1)\n",
        "  p2 = multiprocessing.Process(target=worker2)\n",
        "  # Bắt đầu Process\n",
        "  p1.start()\n",
        "  p2.start()\n",
        "\n",
        "  print(f'ID cua process 1: {p1.pid}')\n",
        "  print(f'ID cua process 2: {p2.pid}')\n",
        "  # Chờ đến khi Process hoàn thành\n",
        "  p1.join()\n",
        "  p2.join()\n",
        "\n",
        "  print('Cả 2 tiến trình đã hoàn thành !')\n",
        "\n",
        "  # Kiểm tra trạng thái Process\n",
        "  print(f'Process p1 is running ? {p1.is_alive()}')\n",
        "  print(f'Process p2 is running ? {p2.is_alive()}')\n"
      ],
      "metadata": {
        "colab": {
          "base_uri": "https://localhost:8080/"
        },
        "id": "VVqtu9KxwkC-",
        "outputId": "e0a5e51a-9527-4bd6-c6a4-a383afac53d5"
      },
      "execution_count": null,
      "outputs": [
        {
          "output_type": "stream",
          "name": "stdout",
          "text": [
            "ID cua chuong trinh chinh: 1006\n",
            "ID process 1: 1110ID process 2: 1111\n",
            "\n",
            "ID cua process 1: 1110\n",
            "ID cua process 2: 1111\n",
            "Cả 2 tiến trình đã hoàn thành !\n",
            "Process p1 is running ? False\n",
            "Process p2 is running ? False\n"
          ]
        }
      ]
    },
    {
      "cell_type": "code",
      "source": [
        "import time\n",
        "import threading\n",
        "\n",
        "def func_time_out():\n",
        "  print('Time out !!!')\n",
        "\n",
        "# Bắt đầu Thread đếm thời gian từ 10 => Timeout!\n",
        "threading.Timer(11, func_time_out).start()\n",
        "\n",
        "# In thời gian đếm ngược từ 10 => 0 với bước nhảy -1 mỗi lần\n",
        "for i in range(10, -1, -1):\n",
        "  print(i)\n",
        "  time.sleep(1)\n"
      ],
      "metadata": {
        "colab": {
          "base_uri": "https://localhost:8080/"
        },
        "id": "5YqnzueWxr5u",
        "outputId": "81539bcf-a173-4b01-8894-eee548cebcee"
      },
      "execution_count": null,
      "outputs": [
        {
          "output_type": "stream",
          "name": "stdout",
          "text": [
            "10\n",
            "9\n",
            "8\n",
            "7\n",
            "6\n",
            "5\n",
            "4\n",
            "3\n",
            "2\n",
            "1\n",
            "0\n",
            "Time out !!!\n"
          ]
        }
      ]
    },
    {
      "cell_type": "code",
      "source": [
        "import time\n",
        "import threading\n",
        "\n",
        "def func_time_out():\n",
        "  print('Time out !!!')\n",
        "\n",
        "# Bắt đầu Thread đếm thời gian từ 10 => Timeout!\n",
        "threading.Timer(6, func_time_out).start()\n",
        "\n",
        "# In thời gian đếm ngược từ 10 => 0 với bước nhảy -2 mỗi lần\n",
        "for i in range(10, -1, -2):\n",
        "  print(i)\n",
        "  time.sleep(1)\n"
      ],
      "metadata": {
        "colab": {
          "base_uri": "https://localhost:8080/"
        },
        "id": "M5PAORDke4wU",
        "outputId": "1d92b09d-fc12-4ddf-bb3f-4188140beff6"
      },
      "execution_count": null,
      "outputs": [
        {
          "output_type": "stream",
          "name": "stdout",
          "text": [
            "10\n",
            "8\n",
            "6\n",
            "4\n",
            "2\n",
            "0\n",
            "Time out !!!\n"
          ]
        }
      ]
    }
  ]
}