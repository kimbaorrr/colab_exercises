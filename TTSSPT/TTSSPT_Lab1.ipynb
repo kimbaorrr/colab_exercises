{
  "nbformat": 4,
  "nbformat_minor": 0,
  "metadata": {
    "colab": {
      "provenance": [],
      "authorship_tag": "ABX9TyPZRNh1dgeHYEk4W8KefhSt",
      "include_colab_link": true
    },
    "kernelspec": {
      "name": "python3",
      "display_name": "Python 3"
    },
    "language_info": {
      "name": "python"
    }
  },
  "cells": [
    {
      "cell_type": "markdown",
      "metadata": {
        "id": "view-in-github",
        "colab_type": "text"
      },
      "source": [
        "<a href=\"https://colab.research.google.com/github/kimbaorrr/colab_exercises/blob/main/TTSSPT/TTSSPT_Lab1.ipynb\" target=\"_parent\"><img src=\"https://colab.research.google.com/assets/colab-badge.svg\" alt=\"Open In Colab\"/></a>"
      ]
    },
    {
      "cell_type": "code",
      "execution_count": null,
      "metadata": {
        "id": "tX71oO7ziQCx"
      },
      "outputs": [],
      "source": [
        "from multiprocessing import Process, Queue\n",
        "import random\n",
        "\n",
        "def rand_num():\n",
        "  num = random.random()\n",
        "  print(num)\n",
        "\n",
        "if __name__ == '__main__':\n",
        "  queue = Queue()\n",
        "  processes = [Process(target=rand_num, args=()) for x in range(4)]\n",
        "\n",
        "  for p in processes:\n",
        "    p.start()\n",
        "\n",
        "  for p in processes:\n",
        "    p.join()\n"
      ]
    },
    {
      "cell_type": "code",
      "source": [
        "def bubbleSort(arr):\n",
        "  n = len(arr)\n",
        "  swapped = False\n",
        "  for i in range(n-1):\n",
        "    for j in range(0, n-i-1):\n",
        "      if arr[j] > arr[j + 1]:\n",
        "        swapped = True\n",
        "        arr[j], arr[j + 1] = arr[j + 1], arr[j]\n",
        "      if not swapped:\n",
        "        return\n",
        "\n",
        "# Mảng cho trước\n",
        "arr = [1, 9, 4, 5, 2, 6, 8, 4]\n",
        "\n",
        "bubbleSort(arr)\n",
        "print('Giải thuật Bubble Sort:')\n",
        "for i in range(len(arr)):\n",
        "  print('% d' % arr[i], end=' ')"
      ],
      "metadata": {
        "colab": {
          "base_uri": "https://localhost:8080/"
        },
        "id": "m4m_PcuQi3Hh",
        "outputId": "346ec78b-12fe-4e9e-c268-166396dc27c9"
      },
      "execution_count": null,
      "outputs": [
        {
          "output_type": "stream",
          "name": "stdout",
          "text": [
            "Giải thuật Bubble Sort:\n",
            " 1  9  4  5  2  6  8  4 "
          ]
        }
      ]
    }
  ]
}