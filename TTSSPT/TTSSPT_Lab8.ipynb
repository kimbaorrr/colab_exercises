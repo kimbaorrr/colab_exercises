{
  "nbformat": 4,
  "nbformat_minor": 0,
  "metadata": {
    "colab": {
      "provenance": [],
      "authorship_tag": "ABX9TyNUXQMnI2RwDMaaV/zDKP4+",
      "include_colab_link": true
    },
    "kernelspec": {
      "name": "python3",
      "display_name": "Python 3"
    },
    "language_info": {
      "name": "python"
    }
  },
  "cells": [
    {
      "cell_type": "markdown",
      "metadata": {
        "id": "view-in-github",
        "colab_type": "text"
      },
      "source": [
        "<a href=\"https://colab.research.google.com/github/kimbaorrr/colab_exercises/blob/main/TTSSPT_Lab8.ipynb\" target=\"_parent\"><img src=\"https://colab.research.google.com/assets/colab-badge.svg\" alt=\"Open In Colab\"/></a>"
      ]
    },
    {
      "cell_type": "code",
      "execution_count": null,
      "metadata": {
        "colab": {
          "base_uri": "https://localhost:8080/"
        },
        "id": "-l_-de82fUpp",
        "outputId": "298a1fd9-53b1-4e9e-e879-66a9ddf2b96c"
      },
      "outputs": [
        {
          "output_type": "stream",
          "name": "stdout",
          "text": [
            "Collecting mpi4py\n",
            "  Downloading mpi4py-3.1.5.tar.gz (2.5 MB)\n",
            "\u001b[2K     \u001b[90m━━━━━━━━━━━━━━━━━━━━━━━━━━━━━━━━━━━━━━━━\u001b[0m \u001b[32m2.5/2.5 MB\u001b[0m \u001b[31m9.1 MB/s\u001b[0m eta \u001b[36m0:00:00\u001b[0m\n",
            "\u001b[?25h  Installing build dependencies ... \u001b[?25l\u001b[?25hdone\n",
            "  Getting requirements to build wheel ... \u001b[?25l\u001b[?25hdone\n",
            "  Preparing metadata (pyproject.toml) ... \u001b[?25l\u001b[?25hdone\n",
            "Building wheels for collected packages: mpi4py\n",
            "  Building wheel for mpi4py (pyproject.toml) ... \u001b[?25l\u001b[?25hdone\n",
            "  Created wheel for mpi4py: filename=mpi4py-3.1.5-cp310-cp310-linux_x86_64.whl size=2746527 sha256=83f13e90637c5707e0dc28f41bf4c667ea2c4eb6edfc64fe6a29bcf99821ac97\n",
            "  Stored in directory: /root/.cache/pip/wheels/18/2b/7f/c852523089e9182b45fca50ff56f49a51eeb6284fd25a66713\n",
            "Successfully built mpi4py\n",
            "Installing collected packages: mpi4py\n",
            "Successfully installed mpi4py-3.1.5\n"
          ]
        }
      ],
      "source": [
        "# Cài thư viện\n",
        "!pip install mpi4py"
      ]
    },
    {
      "cell_type": "code",
      "source": [
        "# Code chạy MPI\n",
        "!mpirun --allow-run-as-root --oversubscribe -np 8 python tenfile.py"
      ],
      "metadata": {
        "id": "-DJ0OEyEfbcZ"
      },
      "execution_count": null,
      "outputs": []
    },
    {
      "cell_type": "code",
      "source": [
        "%%writefile bai_1.py\n",
        "# In thứ tự Process\n",
        "from mpi4py import MPI\n",
        "\n",
        "COMM = MPI.COMM_WORLD\n",
        "RANK = COMM.Get_rank()\n",
        "print(f'Xin chào, tôi là process số {RANK}')"
      ],
      "metadata": {
        "colab": {
          "base_uri": "https://localhost:8080/"
        },
        "id": "0AepRUdkf-QK",
        "outputId": "27b5e87a-8328-44da-b82b-630685d0289e"
      },
      "execution_count": null,
      "outputs": [
        {
          "output_type": "stream",
          "name": "stdout",
          "text": [
            "Overwriting bai_1.py\n"
          ]
        }
      ]
    },
    {
      "cell_type": "code",
      "source": [
        "!mpirun --allow-run-as-root --oversubscribe -np 8 python bai_1.py"
      ],
      "metadata": {
        "colab": {
          "base_uri": "https://localhost:8080/"
        },
        "id": "x68AvnlRgakq",
        "outputId": "be1d98a1-9168-42c4-d663-a59ada94adb9"
      },
      "execution_count": null,
      "outputs": [
        {
          "output_type": "stream",
          "name": "stdout",
          "text": [
            "Xin chào, tôi là process số 0\n",
            "Xin chào, tôi là process số 2\n",
            "Xin chào, tôi là process số 1\n",
            "Xin chào, tôi là process số 5\n",
            "Xin chào, tôi là process số 7\n",
            "Xin chào, tôi là process số 3\n",
            "Xin chào, tôi là process số 6\n",
            "Xin chào, tôi là process số 4\n"
          ]
        }
      ]
    },
    {
      "cell_type": "code",
      "source": [
        "%%writefile bai_2.py\n",
        "# Tính dựa trên RANK\n",
        "from mpi4py import MPI\n",
        "\n",
        "RANK = MPI.COMM_WORLD.Get_rank()\n",
        "\n",
        "a = 2\n",
        "b = 3\n",
        "if RANK == 0:\n",
        "  print(a + b)\n",
        "elif RANK == 1:\n",
        "  print(a*b)\n",
        "elif RANK == 2:\n",
        "  print(max(a, b))"
      ],
      "metadata": {
        "colab": {
          "base_uri": "https://localhost:8080/"
        },
        "id": "u7eEFgjngfnA",
        "outputId": "62421e2b-82e7-44ab-fc35-eba7f831a9a7"
      },
      "execution_count": null,
      "outputs": [
        {
          "output_type": "stream",
          "name": "stdout",
          "text": [
            "Overwriting bai_2.py\n"
          ]
        }
      ]
    },
    {
      "cell_type": "code",
      "source": [
        "!mpirun --allow-run-as-root --oversubscribe -np 8 python bai_2.py"
      ],
      "metadata": {
        "colab": {
          "base_uri": "https://localhost:8080/"
        },
        "id": "wK84oFfig9he",
        "outputId": "7316cf18-0f8a-497e-aabb-8369693e5f76"
      },
      "execution_count": null,
      "outputs": [
        {
          "output_type": "stream",
          "name": "stdout",
          "text": [
            "5\n",
            "6\n",
            "3\n"
          ]
        }
      ]
    },
    {
      "cell_type": "code",
      "source": [
        "%%writefile bai_3.py\n",
        "# Tìm số thứ tự RANK của Process hiện tại\n",
        "from mpi4py import MPI\n",
        "\n",
        "RANK = MPI.COMM_WORLD.Get_rank()\n",
        "print(f'Số thứ tự của tiến trình hiện tại {RANK}')"
      ],
      "metadata": {
        "colab": {
          "base_uri": "https://localhost:8080/"
        },
        "id": "0BAyXzYChM-a",
        "outputId": "ac5e0207-32d6-453f-d15f-c2ca82628836"
      },
      "execution_count": null,
      "outputs": [
        {
          "output_type": "stream",
          "name": "stdout",
          "text": [
            "Writing bai_3.py\n"
          ]
        }
      ]
    },
    {
      "cell_type": "code",
      "source": [
        "!mpirun --allow-run-as-root --oversubscribe -np 8 python bai_3.py"
      ],
      "metadata": {
        "colab": {
          "base_uri": "https://localhost:8080/"
        },
        "id": "7UzR1rlChcTI",
        "outputId": "710e52e9-63dc-45fa-e39a-c754f99ad568"
      },
      "execution_count": null,
      "outputs": [
        {
          "output_type": "stream",
          "name": "stdout",
          "text": [
            "Số thứ tự của tiến trình hiện tại 7\n",
            "Số thứ tự của tiến trình hiện tại 1\n",
            "Số thứ tự của tiến trình hiện tại 6\n",
            "Số thứ tự của tiến trình hiện tại 0\n",
            "Số thứ tự của tiến trình hiện tại 2\n",
            "Số thứ tự của tiến trình hiện tại 5\n",
            "Số thứ tự của tiến trình hiện tại 3\n",
            "Số thứ tự của tiến trình hiện tại 4\n"
          ]
        }
      ]
    },
    {
      "cell_type": "code",
      "source": [
        "import numpy as np\n",
        "from scipy import linalg as la\n",
        "\n",
        "# Nhận 2000 điểm ngẫu nhiên trong miền 2 chiều\n",
        "points = np.random.uniform(-1, 1, (2, 2000))\n",
        "print(points)\n",
        "\n",
        "# Xác định có bao nhiêu điểm trong vòng tròn\n",
        "lengths = la.norm(points, axis=0)\n",
        "num_within = np.count_nonzero(lengths < 1)\n",
        "\n",
        "# Tính diện tích hình tròn\n",
        "print(f'Số PI là: {num_within / 2000}'"
      ],
      "metadata": {
        "colab": {
          "base_uri": "https://localhost:8080/"
        },
        "id": "flLW_vHAhjlh",
        "outputId": "f0afb390-d91b-4e9f-8083-e542132168bb"
      },
      "execution_count": null,
      "outputs": [
        {
          "output_type": "stream",
          "name": "stdout",
          "text": [
            "[[ 0.1347823   0.0929486   0.58831799 ...  0.05393448 -0.57512554\n",
            "  -0.30827148]\n",
            " [ 0.97866319  0.50728513 -0.62093764 ...  0.55531175  0.8823341\n",
            "   0.0930632 ]]\n",
            "Số PI là: 0.783\n"
          ]
        }
      ]
    }
  ]
}
