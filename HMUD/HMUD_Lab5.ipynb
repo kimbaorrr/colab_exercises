{
  "nbformat": 4,
  "nbformat_minor": 0,
  "metadata": {
    "colab": {
      "provenance": []
    },
    "kernelspec": {
      "name": "python3",
      "display_name": "Python 3"
    },
    "language_info": {
      "name": "python"
    }
  },
  "cells": [
    {
      "cell_type": "code",
      "execution_count": null,
      "metadata": {
        "id": "EBjwBDnV-mws",
        "colab": {
          "base_uri": "https://localhost:8080/",
          "height": 426
        },
        "outputId": "9c41687c-973e-4c3c-ccac-a0d9cce35cc1"
      },
      "outputs": [
        {
          "output_type": "display_data",
          "data": {
            "text/plain": [
              "<Figure size 640x480 with 1 Axes>"
            ],
            "image/png": "[encoded data removed]"
          },
          "metadata": {}
        }
      ],
      "source": [
        "import numpy as np\n",
        "import matplotlib.pyplot as plt\n",
        "from scipy.spatial.distance import cdist\n",
        "np.random.seed(22)\n",
        "\n",
        "means = [[2, 2], [4, 2]]\n",
        "cov = [[.3, .2], [.2, .3]]\n",
        "N = 10\n",
        "X0 = np.random.multivariate_normal(means[0], cov, N).T\n",
        "X1 = np.random.multivariate_normal(means[1], cov, N).T\n",
        "plt.plot(X0[0, :], X0[1, :], 'bs', markersize=8, alpha=.8)\n",
        "plt.plot(X1[0, :], X1[1, :], 'ro', markersize=8, alpha=.8)\n",
        "plt.axis('equal')\n",
        "plt.ylim(0, 3)\n",
        "plt.xlim(2, 4)\n",
        "\n",
        "# hide ticks\n",
        "cur_axes = plt.gca()\n",
        "cur_axes.axes.get_xaxis().set_ticks([])\n",
        "cur_axes.axes.get_yaxis().set_ticks([])\n",
        "\n",
        "plt.xlabel('$x_1$')\n",
        "plt.ylabel('$x_2$')\n",
        "plt.show()\n"
      ]
    },
    {
      "cell_type": "code",
      "source": [
        "X = np.concatenate((X0, X1), axis=1)\n",
        "y = np.concatenate((np.ones((1, N)), -1*np.ones((1, N))), axis=1)\n",
        "# Xbar\n",
        "X = np.concatenate((np.ones((1, 2 * N)), X), axis=0)\n",
        "print(y.shape)"
      ],
      "metadata": {
        "colab": {
          "base_uri": "https://localhost:8080/"
        },
        "id": "Y4Xy0plhD_Fo",
        "outputId": "ec2160d6-4f95-44a7-dfb1-73aedc6d687b"
      },
      "execution_count": null,
      "outputs": [
        {
          "output_type": "stream",
          "name": "stdout",
          "text": [
            "(1, 20)\n"
          ]
        }
      ]
    },
    {
      "cell_type": "code",
      "source": [
        "def h(w, x):\n",
        "  return np.sign(np.dot(w.T, x))\n",
        "\n",
        "def has_converged(X, y, w):\n",
        "  return np.array_equal(h(w, X), y) # True if h(w, X) == y else False\n",
        "\n",
        "def perceptron(X, y, w_init):\n",
        "  w = [w_init]\n",
        "  N = X.shape[1]\n",
        "  mis_points = []\n",
        "  while True:\n",
        "    # Mix data\n",
        "    mix_id = np.random.permutation(N)\n",
        "    for i in range(N):\n",
        "      xi = X[:, mix_id[i]].reshape(3, 1)\n",
        "      yi = y[0, mix_id[i]]\n",
        "      if h(w[-1], xi)[0, 0] != yi:\n",
        "        mis_points.append(mix_id[i])\n",
        "        w_new = w[-1] + yi * xi\n",
        "        w.append(w_new)\n",
        "    if has_converged(X, y, w[-1]):\n",
        "      break\n",
        "  return (w, mis_points)\n",
        "\n",
        "d = X.shape[0]\n",
        "w_init = np.random.randn(d, 1)\n",
        "(w, mis_points) = perceptron(X, y, w_init)\n",
        "print(w)"
      ],
      "metadata": {
        "colab": {
          "base_uri": "https://localhost:8080/"
        },
        "id": "RrlIlzPcEbbg",
        "outputId": "c5454113-4ed8-4126-eb33-6eb5097f0f86"
      },
      "execution_count": null,
      "outputs": [
        {
          "output_type": "stream",
          "name": "stdout",
          "text": [
            "[array([[-0.6938787 ],\n",
            "       [ 0.41077572],\n",
            "       [ 0.35797638]]), array([[-1.6938787 ],\n",
            "       [-3.01669008],\n",
            "       [-0.35456794]]), array([[-0.6938787 ],\n",
            "       [-0.97951652],\n",
            "       [ 1.57940339]]), array([[0.3061213 ],\n",
            "       [1.39367359],\n",
            "       [3.2981632 ]]), array([[-0.6938787 ],\n",
            "       [-2.6114465 ],\n",
            "       [ 1.40526221]]), array([[ 0.3061213 ],\n",
            "       [-1.03864955],\n",
            "       [ 2.31233568]]), array([[-0.6938787 ],\n",
            "       [-5.1778966 ],\n",
            "       [ 0.21672034]]), array([[ 0.3061213 ],\n",
            "       [-3.63999603],\n",
            "       [ 2.09106756]]), array([[ 1.3061213 ],\n",
            "       [-1.60282248],\n",
            "       [ 4.02503889]]), array([[ 0.3061213 ],\n",
            "       [-5.88487872],\n",
            "       [ 2.22828282]]), array([[ 1.3061213 ],\n",
            "       [-4.37225982],\n",
            "       [ 3.63387224]]), array([[ 2.3061213 ],\n",
            "       [-2.79946288],\n",
            "       [ 4.54094571]]), array([[ 1.3061213 ],\n",
            "       [-7.33843933],\n",
            "       [ 1.99137264]]), array([[ 2.3061213 ],\n",
            "       [-5.52612776],\n",
            "       [ 3.55256761]]), array([[ 3.3061213],\n",
            "       [-3.2329991],\n",
            "       [ 6.3179415]]), array([[ 2.3061213 ],\n",
            "       [-7.70683378],\n",
            "       [ 3.90524684]]), array([[ 3.3061213 ],\n",
            "       [-5.91946489],\n",
            "       [ 5.19905644]]), array([[ 4.3061213 ],\n",
            "       [-3.54627477],\n",
            "       [ 6.91781625]]), array([[ 3.3061213 ],\n",
            "       [-7.24047582],\n",
            "       [ 4.97507639]]), array([[ 4.3061213 ],\n",
            "       [-5.66767888],\n",
            "       [ 5.88214986]])]\n"
          ]
        }
      ]
    },
    {
      "cell_type": "code",
      "source": [
        "# generate data\n",
        "# list\n",
        "\n",
        "means = [[2, 2], [4, 2]]\n",
        "cov = [[.3, .2], [.2, .3]]\n",
        "N = 10\n",
        "X0 = np.random.multivariate_normal(means[0], cov, N).T\n",
        "X1 = np.random.multivariate_normal(means[1], cov, N).T\n",
        "\n",
        "X = np.concatenate((X0, X1), axis=1)\n",
        "y = np.concatenate((np.ones((1, N)), -1*np.ones((1, N))), axis=1)\n",
        "# Xbar\n",
        "X = np.concatenate((np.ones((1, 2 * N)), X), axis=0)\n",
        "\n",
        "def h(w, x):\n",
        "  return np.sign(np.dot(w.T, x))\n",
        "\n",
        "def has_converged(X, y, w):\n",
        "  return np.array_equal(h(w, X), y) # True if h(w, X) == y else False\n",
        "\n",
        "def perceptron(X, y, w_init):\n",
        "  w = [w_init]\n",
        "  N = X.shape[1]\n",
        "  mis_points = []\n",
        "  while True:\n",
        "    # Mix data\n",
        "    mix_id = np.random.permutation(N)\n",
        "    for i in range(N):\n",
        "      xi = X[:, mix_id[i]].reshape(3, 1)\n",
        "      yi = y[0, mix_id[i]]\n",
        "      if h(w[-1], xi)[0, 0] != yi:\n",
        "        mis_points.append(mix_id[i])\n",
        "        w_new = w[-1] + yi * xi\n",
        "        w.append(w_new)\n",
        "    if has_converged(X, y, w[-1]):\n",
        "      break\n",
        "  return (w, mis_points)\n",
        "\n",
        "d = X.shape[0]\n",
        "w_init = np.random.randn(d, 1)\n",
        "(w, m) = perceptron(X, y, w_init)\n",
        "print(m)\n",
        "\n",
        "\n",
        "def draw_line(w):\n",
        "  w0, w1, w2, = w[0], w[1], w[2]\n",
        "\n",
        "  if w2 != 0:\n",
        "    x11, x12 = -100, 100\n",
        "    return plt.plot([x11, x12], [-(w1 * x11 + w0) / w2, -(w1 * x12 + w0)/w2], 'k')\n",
        "\n",
        "  else:\n",
        "    x10 = -w0/w1\n",
        "    return plt.plot([x10, x10], [-100, 100], 'k')\n",
        "\n"
      ],
      "metadata": {
        "colab": {
          "base_uri": "https://localhost:8080/"
        },
        "id": "-wNgJaunFi7B",
        "outputId": "309d7ec5-883e-4eb8-9112-ada06dbb63cb"
      },
      "execution_count": null,
      "outputs": [
        {
          "output_type": "stream",
          "name": "stdout",
          "text": [
            "[19, 9, 16, 0, 3, 17, 4, 12, 8, 3, 10, 2]\n"
          ]
        }
      ]
    },
    {
      "cell_type": "code",
      "source": [
        "import matplotlib.animation as animation\n",
        "from matplotlib.animation import FuncAnimation\n",
        "def viz_alg_1d_2(w):\n",
        "  it = len(w)\n",
        "\n",
        "  fig, ax = plt.subplots(figsize=(5, 5))\n",
        "\n",
        "  def update(i):\n",
        "    ani = plt.cla()\n",
        "    # points\n",
        "    ani = plt.plot(X0[0, :], X0[1, :], 'b^', markersize=8, alpha=.8)\n",
        "    ani = plt.plot(X1[0, :], X1[1, :], 'ro', markersize=8, alpha=.8)\n",
        "    ani = plt.axis([0, 6, -2, 4])\n",
        "    i2 = i if i < it else it - 1\n",
        "    ani = draw_line(w[i2])\n",
        "    if i < it - 1:\n",
        "      circle = plt.Circle((X[1, m[i]], X[2, m[i]]), .15, color='k', fill=False)\n",
        "      ax.add_artist(circle)\n",
        "    cur_axes = plt.gca()\n",
        "    cur_axes.axes.get_xaxis().set_ticks([])\n",
        "    cur_axes.axes.get_yaxis().set_ticks([])\n",
        "\n",
        "    label = 'PLA: iter %d.%d' %(i2, it-1)\n",
        "    ax.set_xlabel(label)\n",
        "    return ani, ax\n",
        "\n",
        "  anim = FuncAnimation(fig, update, frames=np.arange(0, it + 2), interval=1000)\n",
        "  anim.save('pla_vis.gif', dpi=100, writer='imagemagick')\n",
        "  plt.show()\n",
        "\n",
        "viz_alg_1d_2(w)"
      ],
      "metadata": {
        "colab": {
          "base_uri": "https://localhost:8080/",
          "height": 478
        },
        "id": "Jw-UCwNoG6TJ",
        "outputId": "63f91268-3b47-41d8-f28e-25fbee070fca"
      },
      "execution_count": null,
      "outputs": [
        {
          "output_type": "stream",
          "name": "stderr",
          "text": [
            "WARNING:matplotlib.animation:MovieWriter imagemagick unavailable; using Pillow instead.\n"
          ]
        },
        {
          "output_type": "display_data",
          "data": {
            "text/plain": [
              "<Figure size 500x500 with 1 Axes>"
            ],
            "image/png": "[encoded data removed]"
          },
          "metadata": {}
        }
      ]
    },
    {
      "cell_type": "code",
      "source": [],
      "metadata": {
        "id": "sU2XEtZeHzds"
      },
      "execution_count": null,
      "outputs": []
    }
  ]
}