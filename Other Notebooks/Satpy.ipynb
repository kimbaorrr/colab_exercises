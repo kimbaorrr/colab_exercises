{
  "cells": [
    {
      "cell_type": "markdown",
      "metadata": {
        "id": "view-in-github",
        "colab_type": "text"
      },
      "source": [
        "<a href=\"https://colab.research.google.com/github/kimbaorrr/colab_exercises/blob/main/Other%20Notebooks/Satpy.ipynb\" target=\"_parent\"><img src=\"https://colab.research.google.com/assets/colab-badge.svg\" alt=\"Open In Colab\"/></a>"
      ]
    },
    {
      "cell_type": "code",
      "execution_count": null,
      "metadata": {
        "id": "PS4tLgMFaWar"
      },
      "outputs": [],
      "source": [
        "!sudo apt install libgeos-dev htop p7zip-full -y\n",
        "\n",
        "!pip install \"satpy[ahi_hsd, geotiff, rayleigh, overlays, tests]==0.46.0\" himawari_api gofile2"
      ]
    },
    {
      "cell_type": "code",
      "execution_count": null,
      "metadata": {
        "id": "DFOqKn83iS9h"
      },
      "outputs": [],
      "source": [
        "from satpy import Scene\n",
        "from pyresample import create_area_def\n",
        "import pandas as pd\n",
        "import json\n",
        "from datetime import datetime\n",
        "import himawari_api\n",
        "from requests import request\n",
        "import sys\n",
        "from gofile2 import Gofile\n",
        "from glob import glob\n",
        "import os\n"
      ]
    },
    {
      "cell_type": "code",
      "execution_count": null,
      "metadata": {
        "id": "btzC6NYb-WDI"
      },
      "outputs": [],
      "source": [
        "!wget -nc \"https://github.com/kimbaorrr/cdn/releases/download/CDN/satpy.zip\"\n",
        "!wget -nc \"https://www.ngdc.noaa.gov/mgg/shorelines/data/gshhg/oldversions/version2.3.6/gshhg-shp-2.3.6.zip\"\n",
        "\n",
        "!7z x ./satpy.zip -aos -y\n",
        "!7z x ./gshhg-shp-2.3.6.zip -aos -y\n",
        "\n",
        "print('Xong !!!')"
      ]
    },
    {
      "cell_type": "code",
      "execution_count": null,
      "metadata": {
        "id": "u2i7aLqW5pQw"
      },
      "outputs": [],
      "source": [
        "!cp -rf  ./satpy /usr/local/lib/python{sys.version[:4]}/dist-packages\n",
        "\n",
        "!cp -rn ./WDBII_shp /tmp\n",
        "!cp -rn ./GSHHS_shp /tmp\n",
        "\n",
        "print('Xong !!!')"
      ]
    },
    {
      "cell_type": "code",
      "execution_count": null,
      "metadata": {
        "id": "2aivzkgjaKbS"
      },
      "outputs": [],
      "source": [
        "# Tải dữ liệu từ tệp JSON\n",
        "response = request(\"GET\", \"https://himawari8-dl.nict.go.jp/himawari8/img/D531106/latest.json\")\n",
        "# Đọc dữ liệu & Convert date\n",
        "data_json = json.loads(response.text)\n",
        "today = pd.to_datetime(data_json['date'])\n",
        "\n",
        "year = today.year\n",
        "month = today.month\n",
        "day = today.day\n",
        "hour = today.hour\n",
        "minute = today.minute"
      ]
    },
    {
      "cell_type": "code",
      "execution_count": null,
      "metadata": {
        "id": "tlzSgOLXidNp"
      },
      "outputs": [],
      "source": [
        "start_time = datetime(year, month, day, hour, minute)\n",
        "end_time = start_time\n",
        "print(f'{start_time} - {end_time}')\n",
        "\n",
        "filter_parameters = {}\n",
        "filter_parameters[\"channels\"] = None\n",
        "filter_parameters[\"scene_abbr\"] = None\n",
        "\n",
        "filenames = himawari_api.download_files(\n",
        "    base_dir=\"/tmp/\",\n",
        "    protocol=\"s3\",\n",
        "    fs_args={},\n",
        "    satellite=\"HIMAWARI-9\",\n",
        "    product_level=\"L1B\",\n",
        "    product=\"Rad\",\n",
        "    sector=\"FLDK\",\n",
        "    start_time=start_time,\n",
        "    end_time=end_time,\n",
        "    filter_parameters=filter_parameters,\n",
        "    n_threads=16,\n",
        "    force_download=False,\n",
        "    check_data_integrity=True,\n",
        "    progress_bar=True,\n",
        "    verbose=True\n",
        ")\n",
        "\n",
        "print('Xong !!!')"
      ]
    },
    {
      "cell_type": "code",
      "execution_count": null,
      "metadata": {
        "id": "jejsyMKg5t1x"
      },
      "outputs": [],
      "source": [
        "# Thiết lập chung\n",
        "choose_product = 'geo_color'\n",
        "img_save_path = './'\n",
        "save_name = f'Himawari_9_{choose_product}_{today.strftime(\"%Y%m%d%H%M%S\")}.tif'\n",
        "\n",
        "# Bắt đầu Render\n",
        "print('Nạp dữ liệu')\n",
        "scn = Scene(reader='ahi_hsd', filenames=filenames)\n",
        "scn.load([choose_product])\n",
        "\n",
        "print('Lấy mẫu lại')\n",
        "# area_def = create_area_def('Vietnam',\n",
        "#                            {'proj': 'longlat', 'datum': 'WGS84'},\n",
        "#                            area_extent=(100, 7, 118, 25),\n",
        "#                            units='degrees',\n",
        "#                            shape=(2000, 2000)\n",
        "#                           )\n",
        "\n",
        "area_def = scn['B03'].attrs['area']\n",
        "new_scn = scn.resample(area_def)\n",
        "\n",
        "print('Xuất file TIF')\n",
        "new_scn.save_dataset(choose_product,\n",
        "                     base_dir=img_save_path,\n",
        "                     filename=save_name,\n",
        "                     writer='geotiff',\n",
        "                     num_threads=16,\n",
        "                     overlay={'coast_dir': '/tmp/', 'color': (255, 255, 255), 'width': 1, 'level_coast': 1, 'level_borders': 2}\n",
        "                     )\n",
        "\n",
        "print('Xong !!!')\n",
        "print(f'=> Tên tệp đã xuất: {save_name}')"
      ]
    },
    {
      "cell_type": "markdown",
      "source": [
        "# Upload lên Gofile"
      ],
      "metadata": {
        "id": "xwcgehqqh2YB"
      }
    },
    {
      "cell_type": "code",
      "source": [
        "# Lấy file tif mới nhất\n",
        "\n",
        "list_of_files = glob('*.tif')\n",
        "latest_file = max(list_of_files, key=os.path.getctime)\n",
        "print(latest_file)"
      ],
      "metadata": {
        "id": "1c4Ri4KjmSAM"
      },
      "execution_count": null,
      "outputs": []
    },
    {
      "cell_type": "code",
      "source": [
        "g_a = await Gofile.initialize('l64xORIRqPbDG8IsYhr8swQY536kwHmq')\n",
        "await g_a.upload(latest_file)\n",
        "await g_a.done()\n",
        "\n",
        "print('Xong !!!')"
      ],
      "metadata": {
        "id": "sElXM96EmGGJ",
        "colab": {
          "base_uri": "https://localhost:8080/"
        },
        "outputId": "c68e0b6f-1d54-45c2-bf1b-2cf98ff9758f"
      },
      "execution_count": null,
      "outputs": [
        {
          "output_type": "stream",
          "name": "stdout",
          "text": [
            "Xong !!!\n"
          ]
        }
      ]
    }
  ],
  "metadata": {
    "colab": {
      "provenance": [],
      "include_colab_link": true
    },
    "kernelspec": {
      "display_name": "Python 3",
      "name": "python3"
    },
    "language_info": {
      "name": "python"
    }
  },
  "nbformat": 4,
  "nbformat_minor": 0
}