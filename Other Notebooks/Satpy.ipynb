{
  "cells": [
    {
      "cell_type": "markdown",
      "metadata": {
        "id": "view-in-github",
        "colab_type": "text"
      },
      "source": [
        "<a href=\"https://colab.research.google.com/github/kimbaorrr/colab_exercises/blob/main/Other%20Notebooks/Satpy.ipynb\" target=\"_parent\"><img src=\"https://colab.research.google.com/assets/colab-badge.svg\" alt=\"Open In Colab\"/></a>"
      ]
    },
    {
      "cell_type": "code",
      "execution_count": null,
      "metadata": {
        "id": "PS4tLgMFaWar"
      },
      "outputs": [],
      "source": [
        "!sudo apt-get install libgeos-dev htop -y\n",
        "!pip install satpy[ahi_hsd] satpy[geotiff] satpy[rayleigh] satpy[overlays] satpy[tests] himawari_api"
      ]
    },
    {
      "cell_type": "code",
      "execution_count": null,
      "metadata": {
        "id": "btzC6NYb-WDI"
      },
      "outputs": [],
      "source": [
        "!wget -nc \"https://github.com/kimbaorrr/cdn/releases/download/CDN/satpy.zip\"\n",
        "!wget -nc \"https://www.ngdc.noaa.gov/mgg/shorelines/data/gshhg/oldversions/version2.3.6/gshhg-shp-2.3.6.zip\"\n",
        "\n",
        "!unzip -o satpy.zip\n",
        "!unzip -o gshhg-shp-2.3.6.zip\n",
        "\n",
        "print('Xong !!!')"
      ]
    },
    {
      "cell_type": "code",
      "execution_count": null,
      "metadata": {
        "id": "u2i7aLqW5pQw"
      },
      "outputs": [],
      "source": [
        "import platform\n",
        "py_version = str(platform.python_version())[:4]\n",
        "\n",
        "!cp -rf ./satpy /usr/local/lib/python{py_version}/dist-packages\n",
        "!cp -rf ./WDBII_shp /tmp\n",
        "!cp -rf ./GSHHS_shp /tmp\n",
        "\n",
        "print('Xong !!!')"
      ]
    },
    {
      "cell_type": "code",
      "execution_count": null,
      "metadata": {
        "id": "DFOqKn83iS9h"
      },
      "outputs": [],
      "source": [
        "from satpy import Scene\n",
        "from pyresample import create_area_def\n",
        "import pandas as pd\n",
        "import json\n",
        "from datetime import datetime\n",
        "import himawari_api\n",
        "from requests import request"
      ]
    },
    {
      "cell_type": "code",
      "execution_count": null,
      "metadata": {
        "id": "2aivzkgjaKbS"
      },
      "outputs": [],
      "source": [
        "# Tải dữ liệu từ tệp JSON\n",
        "response = request(\"GET\", \"https://himawari8-dl.nict.go.jp/himawari8/img/D531106/latest.json\")\n",
        "# Đọc dữ liệu & Convert date\n",
        "data_json = json.loads(response.text)\n",
        "today = pd.to_datetime(data_json['date'])\n",
        "\n",
        "year = today.year\n",
        "month = today.month\n",
        "day = today.day\n",
        "hour = today.hour\n",
        "minute = today.minute"
      ]
    },
    {
      "cell_type": "code",
      "execution_count": null,
      "metadata": {
        "id": "tlzSgOLXidNp"
      },
      "outputs": [],
      "source": [
        "start_time = datetime(year, month, day, hour, minute)\n",
        "end_time = start_time\n",
        "print(f'{start_time} - {end_time}')\n",
        "\n",
        "filter_parameters = {}\n",
        "filter_parameters[\"channels\"] = None\n",
        "filter_parameters[\"scene_abbr\"] = None\n",
        "\n",
        "filenames = himawari_api.download_files(\n",
        "    base_dir=\"/tmp/\",\n",
        "    protocol=\"s3\",\n",
        "    fs_args={},\n",
        "    satellite=\"HIMAWARI-9\",\n",
        "    product_level=\"L1B\",\n",
        "    product=\"Rad\",\n",
        "    sector=\"FLDK\",\n",
        "    start_time=start_time,\n",
        "    end_time=end_time,\n",
        "    filter_parameters=filter_parameters,\n",
        "    n_threads=16,\n",
        "    force_download=False,\n",
        "    check_data_integrity=True,\n",
        "    progress_bar=True,\n",
        "    verbose=True\n",
        ")\n",
        "\n",
        "print('Xong !!!')"
      ]
    },
    {
      "cell_type": "code",
      "execution_count": null,
      "metadata": {
        "id": "jejsyMKg5t1x"
      },
      "outputs": [],
      "source": [
        "# Thiết lập chung\n",
        "choose_product = 'geo_color'\n",
        "img_save_path = './'\n",
        "save_name = f'Himawari_9_{choose_product}_{today.strftime(\"%Y%m%d%H%M%S\")}.tif'\n",
        "\n",
        "# Bắt đầu Render\n",
        "print('Nạp dữ liệu')\n",
        "scn = Scene(reader='ahi_hsd', filenames=filenames)\n",
        "scn.load([choose_product])\n",
        "\n",
        "print('Lấy mẫu lại')\n",
        "# area_def = create_area_def('Vietnam',\n",
        "#                            {'proj': 'longlat', 'datum': 'WGS84'},\n",
        "#                            area_extent=(100, 7, 118, 25),\n",
        "#                            units='degrees',\n",
        "#                            shape=(2000, 2000)\n",
        "#                           )\n",
        "\n",
        "area_def = scn['B03'].attrs['area']\n",
        "new_scn = scn.resample(area_def)\n",
        "\n",
        "print('Xuất file TIF')\n",
        "new_scn.save_dataset(choose_product,\n",
        "                     base_dir=img_save_path,\n",
        "                     filename=save_name,\n",
        "                     writer='geotiff',\n",
        "                     num_threads=24,\n",
        "                     overlay={'coast_dir': '/tmp/', 'color': (255, 255, 255), 'width': 1, 'level_coast': 1, 'level_borders': 2}\n",
        "                     )\n",
        "\n",
        "print('Xong !!!')\n",
        "print(f'=> Tên tệp: {save_name}')"
      ]
    }
  ],
  "metadata": {
    "colab": {
      "provenance": [],
      "include_colab_link": true
    },
    "kernelspec": {
      "display_name": "Python 3",
      "name": "python3"
    },
    "language_info": {
      "name": "python"
    }
  },
  "nbformat": 4,
  "nbformat_minor": 0
}