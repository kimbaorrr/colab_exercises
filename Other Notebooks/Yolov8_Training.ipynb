{
  "nbformat": 4,
  "nbformat_minor": 0,
  "metadata": {
    "colab": {
      "provenance": [],
      "gpuType": "T4",
      "collapsed_sections": [
        "B8XdxPLlmv3s",
        "5uInfjVHmXR0",
        "VmHdZyKBmQnV",
        "OqAhyPiNm4Nd",
        "W1fknxUbnDeL"
      ],
      "mount_file_id": "1hQC8FC8docd5u1XXhUPzS2wjIrJC_8_g",
      "authorship_tag": "ABX9TyMHf5dVFDRFFeHtyW0TldDP",
      "include_colab_link": true
    },
    "kernelspec": {
      "name": "python3",
      "display_name": "Python 3"
    },
    "language_info": {
      "name": "python"
    },
    "accelerator": "GPU"
  },
  "cells": [
    {
      "cell_type": "markdown",
      "metadata": {
        "id": "view-in-github",
        "colab_type": "text"
      },
      "source": [
        "<a href=\"https://colab.research.google.com/github/kimbaorrr/colab_exercises/blob/main/Other%20Notebooks/Yolov8_Training.ipynb\" target=\"_parent\"><img src=\"https://colab.research.google.com/assets/colab-badge.svg\" alt=\"Open In Colab\"/></a>"
      ]
    },
    {
      "cell_type": "markdown",
      "source": [
        "# Thiết lập chung"
      ],
      "metadata": {
        "id": "B8XdxPLlmv3s"
      }
    },
    {
      "cell_type": "code",
      "execution_count": null,
      "metadata": {
        "id": "pfUxbt1FLCbA"
      },
      "outputs": [],
      "source": [
        "# Thiết đặt đường dẫn thư mục gốc\n",
        "import os\n",
        "\n",
        "HOME = os.getcwd()\n",
        "print(HOME)"
      ]
    },
    {
      "cell_type": "code",
      "source": [
        "# Cài đặt & nạp các thư viện cần thiết\n",
        "!pip install -U ultralytics roboflow\n",
        "\n",
        "import ultralytics\n",
        "print(ultralytics.checks())\n",
        "\n",
        "from ultralytics import YOLO\n",
        "from IPython.display import display, Image\n",
        "import glob\n",
        "import random\n",
        "from google.colab.patches import cv2_imshow\n",
        "import math\n",
        "import os\n",
        "import numpy as np\n",
        "\n",
        "import torch\n",
        "print(f'=> You have {torch.cuda.device_count()} GPU !')"
      ],
      "metadata": {
        "id": "FaLjLHnALRME"
      },
      "execution_count": null,
      "outputs": []
    },
    {
      "cell_type": "markdown",
      "source": [
        "# Train từ bộ dữ liệu Roboflow\n"
      ],
      "metadata": {
        "id": "5uInfjVHmXR0"
      }
    },
    {
      "cell_type": "code",
      "source": [
        "!mkdir {HOME}/datasets\n",
        "%cd {HOME}/datasets\n",
        "\n",
        "# Tải bộ dữ liệu từ Roboflow\n",
        "\n",
        "!pip install roboflow\n",
        "\n",
        "from roboflow import Roboflow\n",
        "rf = Roboflow(api_key=\"nbernU2pi3cCX5AH4VTi\")\n",
        "project = rf.workspace(\"my-workspace-jlq0f\").project(\"motorbike-license-plate-detection\")\n",
        "dataset = project.version(6).download(\"yolov8\")\n"
      ],
      "metadata": {
        "id": "NySZ84okLgxU"
      },
      "execution_count": null,
      "outputs": []
    },
    {
      "cell_type": "code",
      "source": [
        "%cd {HOME}\n",
        "\n",
        "# Bắt đầu Train\n",
        "!yolo task=detect mode=train model=yolov8n.pt data={dataset.location}/data.yaml epochs=20 imgsz=640 plots=True batch=-1 seed=30 device=0 optimizer=AdamW\n",
        "\n",
        "# Đánh giá quá trình Train\n",
        "!kill $(ps -e | grep 'tensorboard' | awk '{print $1}')\n",
        "%load_ext tensorboard\n",
        "%tensorboard --logdir {HOME}/runs"
      ],
      "metadata": {
        "id": "MLc9-ozPMLso"
      },
      "execution_count": null,
      "outputs": []
    },
    {
      "cell_type": "code",
      "source": [
        "%cd {HOME}\n",
        "\n",
        "# Đánh giá mô hình qua tập Valid\n",
        "!yolo task=detect mode=val model={HOME}'/runs/detect/train/weights/best.pt' data={dataset.location}/data.yaml save_json=True"
      ],
      "metadata": {
        "id": "2MIZ1EZBMvcc"
      },
      "execution_count": null,
      "outputs": []
    },
    {
      "cell_type": "code",
      "source": [
        "%cd {HOME}\n",
        "!yolo task=detect mode=predict model={HOME}/runs/detect/train/weights/best.pt conf=0.25 source={dataset.location}/test/images save=True\n",
        "\n",
        "for image_path in glob.glob(f'{HOME}/runs/detect/predict/*.jpg')[:5]:\n",
        "      display(Image(filename=image_path, width=400))\n",
        "      print('\\n')"
      ],
      "metadata": {
        "id": "yc-7lcojroiJ"
      },
      "execution_count": null,
      "outputs": []
    },
    {
      "cell_type": "markdown",
      "source": [
        "# Train từ bộ dữ liệu ngoài"
      ],
      "metadata": {
        "id": "VmHdZyKBmQnV"
      }
    },
    {
      "cell_type": "code",
      "source": [
        "%cd '/content'\n",
        "\n",
        "# Restore project to GDrive\n",
        "!cp -r '/content/drive/MyDrive/yolo/v8/runs' ./\n",
        "!cp -r '/content/drive/MyDrive/yolo/v8/datasets' ./"
      ],
      "metadata": {
        "id": "dH5g_4nMJ6xu"
      },
      "execution_count": null,
      "outputs": []
    },
    {
      "cell_type": "code",
      "source": [
        "%cd {HOME}/drive/MyDrive/yolo/v8/custom_training/my_dataset\n",
        "\n",
        "## Training từ bộ dữ liệu ngoài\n",
        "# Dọn dẹp tệp cũ\n",
        "!rm -f 'train.txt' 'val.txt'\n",
        "\n",
        "# Tách dữ liệu để Train/Test\n",
        "val_split = 0.2\n",
        "files = []\n",
        "for ext in [\"*.png\", \"*.jpeg\", \"*.jpg\"]:\n",
        "  image_files = glob.glob(os.path.join(\"data\", ext))\n",
        "  files += image_files\n",
        "\n",
        "nb_val = math.floor(len(files)*val_split)\n",
        "rand_idx = np.random.randint(0, len(files), nb_val)\n",
        "\n",
        "# Tạo file train.txt\n",
        "with open(\"train.txt\", \"w\") as f:\n",
        "  for idx in np.arange(len(files)):\n",
        "    if (os.path.exists(files[idx][:-3] + \"txt\")):\n",
        "      f.write(files[idx]+'\\n')\n",
        "\n",
        "# Tạo file val.txt\n",
        "with open(\"val.txt\", \"w\") as f:\n",
        "  for idx in np.arange(len(files)):\n",
        "    if (idx in rand_idx) and (os.path.exists(files[idx][:-3] + \"txt\")):\n",
        "      f.write(files[idx]+'\\n')\n",
        "\n"
      ],
      "metadata": {
        "id": "6ztXDzrEh_3r"
      },
      "execution_count": null,
      "outputs": []
    },
    {
      "cell_type": "code",
      "source": [
        "%cd {HOME}\n",
        "\n",
        "# Bắt đầu Train\n",
        "!yolo task=detect mode=train model=yolov8l.pt data='/content/drive/MyDrive/yolo/v8/custom_training/my_dataset/data.yaml' optimizer='AdamW' epochs=50 imgsz=640 plots=True batch=-1 seed=20 device=0\n",
        "\n",
        "# Đánh giá quá trình Train\n",
        "!kill $(ps -e | grep 'tensorboard' | awk '{print $1}')\n",
        "%load_ext tensorboard\n",
        "%tensorboard --logdir {HOME}/runs"
      ],
      "metadata": {
        "id": "4JIWp-03l-7U"
      },
      "execution_count": null,
      "outputs": []
    },
    {
      "cell_type": "markdown",
      "source": [
        "# Python ENV + OpenCV"
      ],
      "metadata": {
        "id": "OqAhyPiNm4Nd"
      }
    },
    {
      "cell_type": "code",
      "source": [
        "# Python Environment\n",
        "## Dự đoán & xuất tọa độ bboxs\n",
        "\n",
        "model = YOLO(f'{HOME}/runs/detect/train/weights/best.pt')\n",
        "results = model.predict(source='https://www.topgear.com/sites/default/files/2022/07/6_0.jpg', conf=0.25, save=True)\n",
        "print(results[0].boxes.xyxy)\n",
        "res_plotted = results[0].plot()\n",
        "cv2_imshow(res_plotted) # Thay thế cv2.imshow('YOLO', res_plotted) khi chạy trên PC"
      ],
      "metadata": {
        "id": "QzI2YkByYRhL"
      },
      "execution_count": null,
      "outputs": []
    },
    {
      "cell_type": "code",
      "source": [
        "import cv2 as cv\n",
        "from ultralytics import YOLO\n",
        "\n",
        "# Nạp mô hình\n",
        "model = YOLO(f'best.pt')\n",
        "# Bắt các frame từ Video\n",
        "cap = cv.VideoCapture('ny2.mp4')\n",
        "cap.set(cv.CAP_PROP_BUFFERSIZE, 1)\n",
        "\n",
        "while cap.isOpened():\n",
        "    status, frame = cap.read()\n",
        "    # Kiểm tra trạng thái cap\n",
        "    if not status:\n",
        "      break\n",
        "\t  # Nhấn ESC để thoát\n",
        "    if cv.waitKey(33) == 27:\n",
        "      break\n",
        "    results = model.predict(frame)\n",
        "    annotated_frame = results[0].plot()\n",
        "    cv.imshow('YOLO Detection', annotated_frame)\n",
        "cap.release()\n",
        "cv.destroyAllWindows()"
      ],
      "metadata": {
        "id": "LdCVNfURr8Al"
      },
      "execution_count": null,
      "outputs": []
    },
    {
      "cell_type": "code",
      "source": [
        "import cv2 as cv\n",
        "from ultralytics import YOLO\n",
        "\n",
        "cap = cv.VideoCapture('file.mp4', cv.CAP_MSMF)\n",
        "cap.set(cv.CAP_PROP_BUFFERSIZE, 1)\n",
        "cap.set(cv.CAP_PROP_HW_ACCELERATION, cv.VIDEO_ACCELERATION_NONE)\n",
        "\n",
        "model = YOLO('yolov8n.pt')\n",
        "class_names = model.names\n",
        "\n",
        "while cap.isOpened():\n",
        "\tcap.grab()\n",
        "\tstatus, frame = cap.read()\n",
        "\t# Kiểm tra trạng thái cam\n",
        "\tif not status:\n",
        "\t\tbreak\n",
        "\t# Nhấn ESC để thoát\n",
        "\tif cv.waitKey(33) == 27:\n",
        "\t\tbreak\n",
        "\tframe = cv.resize(frame, (1920, 1080))\n",
        "\tresults = model.predict(frame, imgsz=640, stream=True, save_crop=True, augment=True)\n",
        "\tfor result in results:\n",
        "\t\tfor box in result.boxes.numpy():\n",
        "\t\t\tr = box.xyxy[0].astype(int)\n",
        "\t\t\tlabel = class_names[int(box.cls)]\n",
        "\t\t\taccuracy = '%.4f' % box.conf[0]\n",
        "\t\t\t# Đặt Text\n",
        "\t\t\tcv.putText(\n",
        "\t\t\t\tframe,\n",
        "\t\t\t\tf'{label} {accuracy}',\n",
        "\t\t\t\t(r[0], r[1] - 6),\n",
        "\t\t\t\tfontFace=cv.FONT_HERSHEY_COMPLEX,\n",
        "\t\t\t\tfontScale=0.6,\n",
        "\t\t\t\tcolor=(0, 255, 0),\n",
        "\t\t\t\tthickness=1\n",
        "\t\t\t)\n",
        "\t\t\t# Vẽ viền quanh đối tượng\n",
        "\t\t\tcv.rectangle(\n",
        "\t\t\t\tframe,\n",
        "\t\t\t\tr[:2],\n",
        "\t\t\t\tr[2:],\n",
        "\t\t\t\tcolor=(0, 0, 255),\n",
        "\t\t\t\tthickness=2\n",
        "\t\t\t)\n",
        "\tcv.imshow('YOLO Detection', frame)\n",
        "cap.release()\n",
        "cv.destroyAllWindows()\n"
      ],
      "metadata": {
        "id": "h-fCh8Ed14VP"
      },
      "execution_count": null,
      "outputs": []
    },
    {
      "cell_type": "markdown",
      "source": [
        "# Backup & Restore\n"
      ],
      "metadata": {
        "id": "W1fknxUbnDeL"
      }
    },
    {
      "cell_type": "code",
      "source": [
        "%cd '/content/drive/MyDrive/yolo/v8/license_plate'\n",
        "\n",
        "# Backup project to GDrive\n",
        "!cp -r '/content/runs' ./\n",
        "!cp -r '/content/datasets' ./"
      ],
      "metadata": {
        "id": "OUbipS_KfMBo"
      },
      "execution_count": null,
      "outputs": []
    }
  ]
}