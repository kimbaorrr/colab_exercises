{
  "cells": [
    {
      "cell_type": "markdown",
      "metadata": {
        "id": "view-in-github",
        "colab_type": "text"
      },
      "source": [
        "<a href=\"https://colab.research.google.com/github/kimbaorrr/colab_exercises/blob/main/Other%20Notebooks/Yolov4_Training.ipynb\" target=\"_parent\"><img src=\"https://colab.research.google.com/assets/colab-badge.svg\" alt=\"Open In Colab\"/></a>"
      ]
    },
    {
      "cell_type": "code",
      "source": [
        "%cd /content/drive/MyDrive/yolo\n",
        "\n",
        "# Update & Re-download darknet\n",
        "!apt-get update && apt-get upgrade -y\n",
        "!rm -rf darknet\n",
        "!git clone https://github.com/AlexeyAB/darknet"
      ],
      "metadata": {
        "id": "dQE-6272hBrg"
      },
      "execution_count": null,
      "outputs": []
    },
    {
      "cell_type": "code",
      "execution_count": null,
      "metadata": {
        "id": "fdKE0nyLnIxk"
      },
      "outputs": [],
      "source": [
        "%cd /content/drive/MyDrive/yolo/darknet\n",
        "\n",
        "# Xóa & tạo mới thư mục data\n",
        "!rm -rf data\n",
        "!mkdir data\n",
        "\n",
        "# Giải nén data.zip vào thư mục data vừa tạo\n",
        "!unzip ../training/data.zip ./data"
      ]
    },
    {
      "cell_type": "code",
      "execution_count": null,
      "metadata": {
        "id": "v7VUhjIGu3cR"
      },
      "outputs": [],
      "source": [
        "%cd /content/drive/MyDrive/yolo/darknet\n",
        "\n",
        "# Tạo lớp cho tập dữ liệu\n",
        "!echo \"license_plate\" >> yolo.names"
      ]
    },
    {
      "cell_type": "code",
      "execution_count": null,
      "metadata": {
        "id": "vWjBJnbevFxV"
      },
      "outputs": [],
      "source": [
        "%cd /content/drive/MyDrive/yolo/darknet\n",
        "\n",
        "# Tách tập dữ liệu để Train/Test\n",
        "import glob2\n",
        "import math\n",
        "import os\n",
        "import numpy as np\n",
        "\n",
        "val_split = 0.2\n",
        "files = []\n",
        "for ext in [\"*.png\", \"*.jpeg\", \"*.jpg\"]:\n",
        "  image_files = glob2.glob(os.path.join(\"./data/\", ext))\n",
        "  files += image_files\n",
        "\n",
        "nb_val = math.floor(len(files)*val_split)\n",
        "rand_idx = np.random.randint(0, len(files), nb_val)\n",
        "\n",
        "# Tạo file train.txt\n",
        "with open(\"train.txt\", \"w\") as f:\n",
        "  for idx in np.arange(len(files)):\n",
        "    if (os.path.exists(files[idx][:-3] + \"txt\")):\n",
        "      f.write(files[idx]+'\\n')\n",
        "\n",
        "# Tạo file val.txt\n",
        "with open(\"val.txt\", \"w\") as f:\n",
        "  for idx in np.arange(len(files)):\n",
        "    if (idx in rand_idx) and (os.path.exists(files[idx][:-3] + \"txt\")):\n",
        "      f.write(files[idx]+'\\n')"
      ]
    },
    {
      "cell_type": "code",
      "execution_count": null,
      "metadata": {
        "id": "AEl1RcjxvLbx"
      },
      "outputs": [],
      "source": [
        "%cd /content/drive/MyDrive/yolo/darknet\n",
        "\n",
        "!rm -f yolo.data\n",
        "!mkdir backup\n",
        "\n",
        "!echo classes=1 >> yolo.data\n",
        "!echo train=train.txt >> yolo.data\n",
        "!echo valid=val.txt >> yolo.data\n",
        "!echo names=yolo.names >> yolo.data\n",
        "!echo backup=backup >> yolo.data # Vị trí xuất mô hình .h5"
      ]
    },
    {
      "cell_type": "code",
      "execution_count": null,
      "metadata": {
        "id": "NrO2b99vvaAb"
      },
      "outputs": [],
      "source": [
        "%cd /content/drive/MyDrive/yolo/training\n",
        "\n",
        "!cp ./Makefile ../darknet\n",
        "!cp ./yolov4-custom.cfg ../darknet/cfg"
      ]
    },
    {
      "cell_type": "code",
      "execution_count": null,
      "metadata": {
        "id": "kZ04dK-DvteU"
      },
      "outputs": [],
      "source": [
        "%cd /content/drive/MyDrive/yolo/darknet\n",
        "\n",
        "# Biên dịch chương trình\n",
        "!rm darknet\n",
        "!make"
      ]
    },
    {
      "cell_type": "code",
      "execution_count": null,
      "metadata": {
        "id": "l-Yw2qrKwMUj"
      },
      "outputs": [],
      "source": [
        "%cd /content/drive/MyDrive/yolo/darknet\n",
        "\n",
        "# Nạp mô hình yolov4 đã qua đào tạo (Cải thiện khả năng Train)\n",
        "!wget https://github.com/AlexeyAB/darknet/releases/download/yolov4/yolov4.conv.137"
      ]
    },
    {
      "cell_type": "code",
      "execution_count": null,
      "metadata": {
        "id": "WIMhLxZ6weH5"
      },
      "outputs": [],
      "source": [
        "%cd /content/drive/MyDrive/yolo/darknet\n",
        "\n",
        "# Bắt đầu Train\n",
        "!./darknet detector train yolo.data cfg/yolov4-custom.cfg yolov4.conv.137 -dont_show"
      ]
    }
  ],
  "metadata": {
    "accelerator": "GPU",
    "colab": {
      "provenance": [],
      "mount_file_id": "1Hv80Djuv4SQHkzrqS1-Sudm3aADnRfs3",
      "authorship_tag": "ABX9TyMPRt9HUdwwOifNWdqQY6dJ",
      "include_colab_link": true
    },
    "kernelspec": {
      "display_name": "Python 3",
      "name": "python3"
    },
    "language_info": {
      "name": "python"
    }
  },
  "nbformat": 4,
  "nbformat_minor": 0
}